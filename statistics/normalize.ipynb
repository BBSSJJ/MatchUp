{
 "cells": [
  {
   "cell_type": "code",
   "execution_count": 1,
   "metadata": {},
   "outputs": [],
   "source": [
    "# requirements\n",
    "from pymongo import MongoClient\n",
    "\n",
    "import pandas as pd\n",
    "\n",
    "from sklearn.preprocessing import StandardScaler\n",
    "from sklearn.model_selection import train_test_split, RandomizedSearchCV\n",
    "from sklearn.neural_network import MLPClassifier\n",
    "\n",
    "from sklearn.decomposition import PCA\n",
    "\n",
    "import joblib\n",
    "\n",
    "import tqdm\n",
    "import heapq\n",
    "import json"
   ]
  },
  {
   "cell_type": "code",
   "execution_count": 2,
   "metadata": {},
   "outputs": [],
   "source": [
    "# MongoDB 연결\n",
    "client = MongoClient(\"mongodb://localhost:3999/\")"
   ]
  },
  {
   "cell_type": "code",
   "execution_count": 3,
   "metadata": {},
   "outputs": [],
   "source": [
    "# DB 불러오기\n",
    "matchup_statistics_db = client[\"matchup_statistics_db\"]  # summoners, indicators, matches"
   ]
  },
  {
   "cell_type": "code",
   "execution_count": 6,
   "metadata": {},
   "outputs": [
    {
     "name": "stdout",
     "output_type": "stream",
     "text": [
      "13212\n",
      "Ar_KKTRQ4khe-Lm8iDZzy5GLzag_4QfvTCZyXkQYodvTVBmx\n"
     ]
    }
   ],
   "source": [
    "division = {\"I\": 1, \"II\": 2, \"III\": 3, \"IV\": 4}\n",
    "\n",
    "users = []  # 아이언\n",
    "my_rank = 1\n",
    "\n",
    "# or (summoner[\"league\"][\"tier\"] == \"DIAMOND\" and summoner[\"league\"][\"rank\"] == \"IV\")\n",
    "\n",
    "for summoner in matchup_statistics_db[\"summoners\"].find():\n",
    "    if (summoner[\"league\"][\"tier\"] == \"IRON\" or summoner[\"league\"][\"tier\"] == \"BRONZE\" or summoner[\"league\"][\"tier\"] == \"SILVER\"):\n",
    "        users.append(summoner[\"_id\"])\n",
    "\n",
    "print(len(users))\n",
    "print(users[0])"
   ]
  },
  {
   "cell_type": "code",
   "execution_count": null,
   "metadata": {},
   "outputs": [],
   "source": [
    "# 학습 데이터 추출\n",
    "\n",
    "# collection 불러오기\n",
    "indicators = matchup_statistics_db[\"indicators\"].find({\"_id\": {\"$in\": users}})\n",
    "\n",
    "# 학습 데이터\n",
    "x = []\n",
    "y = []\n",
    "\n",
    "summoners = []\n",
    "\n",
    "times = 0\n",
    "all_zero = 0\n",
    "\n",
    "\n",
    "# 결측치 처리 - 추후에는 평균 값으로 입력\n",
    "def imputation(datas, indicator, record, record_detail):\n",
    "    global times\n",
    "\n",
    "    if datas[indicator][record].get(record_detail):\n",
    "        return datas[indicator][record].get(record_detail)\n",
    "    else:\n",
    "        times += 1\n",
    "        return 0\n",
    "\n",
    "# 데이터 추출\n",
    "for indicator in indicators:\n",
    "    for match_indicator in indicator[\"matchIndicators\"]:\n",
    "        summoner = {}\n",
    "\n",
    "        summoner[\"csDiffer\"] = match_indicator[\"laneIndicator\"][\"basicWeight\"][\"csDiffer\"]\n",
    "        summoner[\"expDiffer\"] = match_indicator[\"laneIndicator\"][\"basicWeight\"][\"expDiffer\"]\n",
    "        summoner[\"turretPlateDestroyDiffer\"] = match_indicator[\"laneIndicator\"][\"basicWeight\"][\"turretPlateDestroyDiffer\"]\n",
    "        summoner[\"dealDiffer\"] = imputation(match_indicator, \"laneIndicator\", \"aggresiveLaneAbilility\", \"dealDiffer\")\n",
    "\n",
    "        summoner[\"turretKillsPerDeaths\"] = match_indicator[\"macroIndicator\"][\"splitPoint\"][\"turretKillsPerDeaths\"]\n",
    "        summoner[\"damageDealtToTurretsPerTeamTotalTowerDamageDone\"] = match_indicator[\"macroIndicator\"][\"splitPoint\"][\"damageDealtToTurretsPerTeamTotalTowerDamageDone\"]\n",
    "\n",
    "        summoner[\"totalTimeCCingOthersPerTotalDamageTaken\"] = match_indicator[\"macroIndicator\"][\"initiatingPoint\"][\"totalTimeCCingOthersPerTotalDamageTaken\"]\n",
    "        summoner[\"totalDamageTakenPerTeamTotalDamageTaken\"] = match_indicator[\"macroIndicator\"][\"initiatingPoint\"][\"totalDamageTakenPerTeamTotalDamageTaken\"]\n",
    "        summoner[\"damageSelfMitigatedPerTotalDamageTaken\"] = match_indicator[\"macroIndicator\"][\"initiatingPoint\"][\"damageSelfMitigatedPerTotalDamageTaken\"]\n",
    "\n",
    "        summoner[\"visionScorePerDeath\"] = match_indicator[\"macroIndicator\"][\"visionPoint\"][\"visionScorePerDeath\"]\n",
    "        summoner[\"totalJungleObjectivePerGameDuration\"] = match_indicator[\"macroIndicator\"][\"jungleHoldPoint\"][\"totalJungleObjectivePerGameDuration\"]\n",
    "\n",
    "        summoner[\"getObjectiveDifferPerGameDuration\"] = match_indicator[\"macroIndicator\"][\"objectivePoint\"][\"getObjectiveDifferPerGameDuration\"]\n",
    "\n",
    "        summoner[\"damagePerMinute\"] = match_indicator[\"macroIndicator\"][\"totalDealPoint\"][\"damagePerMinute\"]\n",
    "        summoner[\"dealPerGold\"] = imputation(match_indicator, \"macroIndicator\", \"totalDealPoint\", \"dealPerGold\")\n",
    "        summoner[\"teamDamagePercentage\"] = imputation(match_indicator, \"macroIndicator\", \"totalDealPoint\", \"teamDamagePercentage\")\n",
    "\n",
    "        if match_indicator[\"metadata\"][\"laneInfo\"].get(\"teamPosition\") == \"TOP\":\n",
    "            pass\n",
    "\n",
    "\n",
    "        is_all_zero = True\n",
    "        idx = 0\n",
    "\n",
    "        for key, value in summoner.items():\n",
    "            if value != 0:\n",
    "                is_all_zero = False\n",
    "                break \n",
    "                \n",
    "        if is_all_zero is False:\n",
    "\n",
    "            if match_indicator[\"metadata\"][\"isWin\"] is True:\n",
    "                y.append(1)\n",
    "            else:\n",
    "                y.append(0)\n",
    "\n",
    "            summoners.append(summoner)"
   ]
  }
 ],
 "metadata": {
  "kernelspec": {
   "display_name": "venv",
   "language": "python",
   "name": "python3"
  },
  "language_info": {
   "codemirror_mode": {
    "name": "ipython",
    "version": 3
   },
   "file_extension": ".py",
   "mimetype": "text/x-python",
   "name": "python",
   "nbconvert_exporter": "python",
   "pygments_lexer": "ipython3",
   "version": "3.12.1"
  }
 },
 "nbformat": 4,
 "nbformat_minor": 2
}
